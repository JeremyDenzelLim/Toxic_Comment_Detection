{
 "cells": [
  {
   "cell_type": "markdown",
   "metadata": {},
   "source": [
    "# BT4222 Project -Toxic Comments Classifier (Part 2 ML Severe_Toxic,Obscene,Identity_hate)\n",
    "\n",
    "\n",
    "This notebook contains the code and results of the modelling for the class severe_toxic,obscene and identity_hate. For full explanation and description of the output, please refer to the report. There is another ML modelling notebook attached as well which contains modelling for 3 other classes namely toxic, threat and insult."
   ]
  },
  {
   "cell_type": "code",
   "execution_count": 1,
   "metadata": {},
   "outputs": [],
   "source": [
    "import pandas as pd\n",
    "import numpy as np\n",
    "import os\n",
    "import nltk\n",
    "import re\n",
    "\n",
    "import matplotlib.pyplot as plt\n",
    "import seaborn as sns\n",
    "%matplotlib inline\n",
    "\n",
    "from nltk.tokenize import RegexpTokenizer,sent_tokenize,word_tokenize\n",
    "from nltk.corpus import stopwords\n",
    "from nltk.stem.porter import PorterStemmer\n",
    "from nltk.stem import WordNetLemmatizer \n",
    "from sklearn.feature_extraction.text import CountVectorizer\n",
    "from sklearn.feature_extraction.text import TfidfVectorizer\n",
    "from sklearn.ensemble import AdaBoostClassifier,ExtraTreesClassifier\n",
    "from sklearn import tree, manifold,datasets\n",
    "from sklearn.model_selection import KFold, cross_val_score\n",
    "\n",
    "from sklearn.tree import DecisionTreeClassifier\n",
    "from sklearn.linear_model import LogisticRegression, SGDClassifier\n",
    "from sklearn.model_selection import KFold, cross_val_score\n",
    "from sklearn.ensemble import RandomForestClassifier,BaggingClassifier, AdaBoostClassifier, GradientBoostingClassifier\n",
    "from sklearn.neighbors import KNeighborsClassifier\n",
    "from sklearn.svm import SVC\n",
    "from sklearn.svm import LinearSVC\n",
    "from sklearn import tree\n",
    "from sklearn.metrics import accuracy_score, f1_score, precision_score, recall_score, classification_report\n",
    "from sklearn.metrics import confusion_matrix, roc_curve, roc_auc_score, auc, make_scorer , recall_score, accuracy_score\n",
    "from sklearn.model_selection import GridSearchCV,KFold, cross_val_score\n",
    "from sklearn.cluster import KMeans\n",
    "import lightgbm as lgb\n",
    "import xgboost as xgb\n",
    "from sklearn.naive_bayes import GaussianNB,BernoulliNB\n",
    "from sklearn.discriminant_analysis import LinearDiscriminantAnalysis\n",
    "from sklearn.neural_network import MLPClassifier\n",
    "from sklearn.naive_bayes import GaussianNB,BernoulliNB,MultinomialNB\n",
    "from sklearn.model_selection import validation_curve\n",
    "from sklearn.feature_selection import SelectKBest, chi2, f_classif\n",
    "\n",
    "from sklearn.decomposition import PCA\n",
    "\n",
    "from hyperopt import hp\n",
    "from hyperopt.pyll import scope\n",
    "from hyperopt import fmin, tpe, hp, STATUS_OK, Trials\n",
    "from sklearn.decomposition import TruncatedSVD\n",
    "from sklearn import preprocessing\n",
    "\n",
    "import warnings\n",
    "warnings.filterwarnings(\"ignore\")\n",
    "#project_dir = r\"C:\\Users\\User\\Desktop\\JeremyWork\\BT4222\\\""
   ]
  },
  {
   "cell_type": "code",
   "execution_count": 2,
   "metadata": {},
   "outputs": [],
   "source": [
    "df_train = pd.read_csv(\"cleaned_train.csv\")\n",
    "df_test = pd.read_csv(\"test.csv\")"
   ]
  },
  {
   "cell_type": "code",
   "execution_count": 3,
   "metadata": {},
   "outputs": [],
   "source": [
    "df_train['comment_text'].fillna(\"unknown\", inplace=True)\n",
    "df_test['comment_text'].fillna(\"unknown\", inplace=True)"
   ]
  },
  {
   "cell_type": "code",
   "execution_count": 4,
   "metadata": {},
   "outputs": [],
   "source": [
    "label = list(df_train.columns[2:])"
   ]
  },
  {
   "cell_type": "code",
   "execution_count": 6,
   "metadata": {},
   "outputs": [],
   "source": [
    "train_y = df_train[label]"
   ]
  },
  {
   "cell_type": "code",
   "execution_count": 7,
   "metadata": {},
   "outputs": [],
   "source": [
    "tfidf = TfidfVectorizer(sublinear_tf=True,\n",
    "                              analyzer='word',\n",
    "                              norm='l2',\n",
    "                              ngram_range=(1,1),\n",
    "                              stop_words=\"english\",\n",
    "                              lowercase=True,\n",
    "                             )\n",
    "\n",
    "data = tfidf.fit_transform(df_train['comment_text'])\n",
    "tf_train_x = tfidf.transform(df_train['comment_text'])"
   ]
  },
  {
   "cell_type": "code",
   "execution_count": 212,
   "metadata": {},
   "outputs": [],
   "source": [
    "## Credits to https://scikit-learn.org/stable/auto_examples/model_selection/plot_confusion_matrix.html for code\n",
    "\n",
    "def plot_confusion_matrix(y_true, y_pred, classes,\n",
    "                          normalize=False,\n",
    "                          title=None,\n",
    "                          cmap=plt.cm.Blues):\n",
    "    \"\"\"\n",
    "    This function prints and plots the confusion matrix.\n",
    "    Normalization can be applied by setting `normalize=True`.\n",
    "    \"\"\"\n",
    "    if not title:\n",
    "        if normalize:\n",
    "            title = 'Normalized confusion matrix'\n",
    "        else:\n",
    "            title = 'Confusion matrix, without normalization'\n",
    "\n",
    "    # Compute confusion matrix\n",
    "    cm = confusion_matrix(y_true, y_pred)\n",
    "    # Only use the labels that appear in the data\n",
    "    #classes = classes[unique_labels(y_true, y_pred)]\n",
    "    if normalize:\n",
    "        cm = cm.astype('float') / cm.sum(axis=1)[:, np.newaxis]\n",
    "\n",
    "\n",
    "    #print(cm)\n",
    "\n",
    "    fig, ax = plt.subplots()\n",
    "    im = ax.imshow(cm, interpolation='nearest', cmap=cmap)\n",
    "    ax.figure.colorbar(im, ax=ax)\n",
    "    # We want to show all ticks...\n",
    "    ax.set(xticks=np.arange(cm.shape[1]),\n",
    "           yticks=np.arange(cm.shape[0]),\n",
    "           # ... and label them with the respective list entries\n",
    "           xticklabels=classes, yticklabels=classes,\n",
    "           title=title,\n",
    "           ylabel='True label',\n",
    "           xlabel='Predicted label')\n",
    "\n",
    "    # Rotate the tick labels and set their alignment.\n",
    "    plt.setp(ax.get_xticklabels(), rotation=45, ha=\"right\",\n",
    "             rotation_mode=\"anchor\")\n",
    "\n",
    "    # Loop over data dimensions and create text annotations.\n",
    "    fmt = '.2f' if normalize else 'd'\n",
    "    thresh = cm.max() / 2.\n",
    "    for i in range(cm.shape[0]):\n",
    "        for j in range(cm.shape[1]):\n",
    "            ax.text(j, i, format(cm[i, j], fmt),\n",
    "                    ha=\"center\", va=\"center\",\n",
    "                    color=\"white\" if cm[i, j] > thresh else \"black\")\n",
    "    fig.tight_layout()\n",
    "    return ax\n",
    "\n",
    "\n",
    "np.set_printoptions(precision=2)"
   ]
  },
  {
   "cell_type": "markdown",
   "metadata": {},
   "source": [
    "## Severe Toxic Modelling"
   ]
  },
  {
   "cell_type": "markdown",
   "metadata": {},
   "source": [
    "### L1 Models Optimization"
   ]
  },
  {
   "cell_type": "code",
   "execution_count": 9,
   "metadata": {},
   "outputs": [],
   "source": [
    "def bayes_opt(classifier,param_space,X_train,y_train,metric):\n",
    "\n",
    "    def objective_function(param_space):\n",
    "\n",
    "        clf = classifier(random_state=1234, **param_space)\n",
    "        score = cross_val_score(clf, X_train,y_train, cv=5,scoring=metric).mean()\n",
    "        return {'loss': -score, 'status': STATUS_OK}\n",
    "    \n",
    "    trials = Trials()\n",
    "    best_param = fmin(objective_function, \n",
    "                      param_space, \n",
    "                      algo=tpe.suggest, \n",
    "                      max_evals=100, \n",
    "                      trials=trials,\n",
    "                      rstate= np.random.RandomState(4222)\n",
    "                     )\n",
    "\n",
    "    loss = [x['result']['loss'] for x in trials.trials]\n",
    "    \n",
    "    print(\"\")\n",
    "    print(\"##### Results\")\n",
    "    print(\"Score best parameters: \", min(loss)*-1)\n",
    "    print(\"Best parameters: \", best_param)"
   ]
  },
  {
   "cell_type": "code",
   "execution_count": 10,
   "metadata": {},
   "outputs": [
    {
     "name": "stdout",
     "output_type": "stream",
     "text": [
      "100%|██████████| 100/100 [4:35:55<00:00, 165.55s/it, best loss: -0.9861749283169351]   \n",
      "\n",
      "##### Results\n",
      "Score best parameters:  0.9861749283169351\n",
      "Best parameters:  {'C': 112, 'class_weight': 0, 'fit_intercept': 0, 'max_iter': 2, 'n_jobs': 0, 'penalty': 1}\n"
     ]
    }
   ],
   "source": [
    "log_param_space1 = {\"penalty\": hp.choice(\"penalty\", ['l1','l2']),\n",
    "                   \"fit_intercept\" : hp.choice(\"fit_intercept\", [True]),\n",
    "                   \"C\": hp.choice(\"C\", list(np.logspace(-3,3,300))),\n",
    "                   \"max_iter\":hp.choice(\"max_iter\", [50,100,200,500]),\n",
    "                    \"class_weight\":hp.choice(\"class_weight\", [\"balanced\",None]),\n",
    "                   \"n_jobs\":hp.choice(\"n_jobs\", [3])}\n",
    "\n",
    "bayes_opt(LogisticRegression,log_param_space1,tf_train_x,train_y['severe_toxic'],\"roc_auc\")"
   ]
  },
  {
   "cell_type": "code",
   "execution_count": 11,
   "metadata": {},
   "outputs": [
    {
     "name": "stdout",
     "output_type": "stream",
     "text": [
      "100%|██████████| 100/100 [2:56:48<00:00, 106.09s/it, best loss: -0.9817029039104985] \n",
      "\n",
      "##### Results\n",
      "Score best parameters:  0.9817029039104985\n",
      "Best parameters:  {'boosting_type': 0, 'colsample_by_tree': 0.50104456858092, 'gamma': 3.0, 'learning_rate': 2, 'n_estimators': 4, 'n_job': 0, 'reg_alpha': 0, 'reg_lambda': 2}\n"
     ]
    }
   ],
   "source": [
    "lgb_param_space1 = {\"boosting_type\": hp.choice(\"boosting_type\",[\"gbdt\",\"dart\",\"goss\"]),\n",
    "                    \"learning_rate\":hp.choice(\"learning_rate\", [0.01,0.05,0.1,0.2,0.3]),\n",
    "                  \"gamma\":scope.int(hp.quniform('gamma', 1, 5, 1)),\n",
    "                  'colsample_bytree': hp.uniform('colsample_by_tree', 0.5, 1.0),\n",
    "                  'reg_alpha': hp.choice('reg_alpha', [1e-2, 0.1, 1, 100,200,500]),\n",
    "                  'reg_lambda':hp.choice('reg_lambda', [1e-2, 0.1, 1, 100,200,500]),\n",
    "                  \"n_estimators\" : hp.choice(\"n_estimators\", [5,10,20,50,100]),\n",
    "                  \"n_job\":hp.choice('n_job',[3])}\n",
    "\n",
    "bayes_opt(lgb.LGBMClassifier,lgb_param_space1,tf_train_x,train_y['severe_toxic'],\"roc_auc\")"
   ]
  },
  {
   "cell_type": "code",
   "execution_count": 12,
   "metadata": {},
   "outputs": [
    {
     "name": "stderr",
     "output_type": "stream",
     "text": [
      "2196017it [08:58, 4077.98it/s]\n"
     ]
    }
   ],
   "source": [
    "from tqdm import tqdm\n",
    "\n",
    "embeddings_index = {}\n",
    "embedding_dir = r\"D:\\Y3S1\\BT4222\"\n",
    "f = open(os.path.join(embedding_dir,'glove.840B.300d.txt'), encoding=\"utf8\")\n",
    "\n",
    "for line in tqdm(f):\n",
    "    values = line.split()\n",
    "    word = ''.join(values[:-300])\n",
    "    coefs = np.asarray(values[-300:], dtype='float32')\n",
    "    embeddings_index[word] = coefs\n",
    "f.close()"
   ]
  },
  {
   "cell_type": "code",
   "execution_count": 13,
   "metadata": {},
   "outputs": [],
   "source": [
    "# this function creates a normalized vector for the whole sentence\n",
    "def sent2vec(s):\n",
    "    #words = str(s).lower().decode('utf-8')\n",
    "    words = word_tokenize(s)\n",
    "    #words = [w for w in words if not w in stop_words]\n",
    "    words = [w for w in words if w.isalpha()]\n",
    "    M = []\n",
    "    for w in words:\n",
    "        try:\n",
    "            M.append(embeddings_index[w])\n",
    "        except:\n",
    "            continue\n",
    "    M = np.array(M)\n",
    "    v = M.sum(axis=0)\n",
    "    if type(v) != np.ndarray:\n",
    "        return np.zeros(300)\n",
    "    return v / np.sqrt((v ** 2).sum())"
   ]
  },
  {
   "cell_type": "code",
   "execution_count": 14,
   "metadata": {},
   "outputs": [
    {
     "name": "stderr",
     "output_type": "stream",
     "text": [
      "100%|██████████| 159571/159571 [02:07<00:00, 1250.54it/s]\n"
     ]
    }
   ],
   "source": [
    "# create sentence vectors using the above function for training and validation set\n",
    "xtrain_glove = [sent2vec(x) for x in tqdm(df_train['comment_text'])]\n",
    "# xvalid_glove = [sent2vec(x) for x in tqdm(xvalid)]\n",
    "xtrain_glove = np.array(xtrain_glove)"
   ]
  },
  {
   "cell_type": "code",
   "execution_count": 23,
   "metadata": {},
   "outputs": [
    {
     "name": "stdout",
     "output_type": "stream",
     "text": [
      "100%|██████████| 100/100 [15:19:29<00:00, 551.70s/it, best loss: -0.9845579785805215]   \n",
      "\n",
      "##### Results\n",
      "Score best parameters:  0.9845579785805215\n",
      "Best parameters:  {'C': 124, 'class_weight': 0, 'fit_intercept': 0, 'max_iter': 2, 'n_jobs': 0, 'penalty': 1}\n"
     ]
    }
   ],
   "source": [
    "log_param_space1 = {\"penalty\": hp.choice(\"penalty\", ['l1','l2']),\n",
    "                   \"fit_intercept\" : hp.choice(\"fit_intercept\", [True]),\n",
    "                   \"C\": hp.choice(\"C\", list(np.logspace(-3,3,300))),\n",
    "                    \"max_iter\":hp.choice(\"max_iter\", [100,200,500]),\n",
    "                   \"class_weight\":hp.choice(\"class_weight\", [\"balanced\"]),\n",
    "                   \"n_jobs\":hp.choice(\"n_jobs\", [3])}\n",
    "\n",
    "bayes_opt(LogisticRegression,log_param_space1,xtrain_glove,train_y['severe_toxic'],\"roc_auc\")"
   ]
  },
  {
   "cell_type": "code",
   "execution_count": 16,
   "metadata": {},
   "outputs": [
    {
     "name": "stdout",
     "output_type": "stream",
     "text": [
      "100%|██████████| 100/100 [6:17:37<00:00, 226.57s/it, best loss: -0.9854742550372805] \n",
      "\n",
      "##### Results\n",
      "Score best parameters:  0.9854742550372805\n",
      "Best parameters:  {'boosting_type': 1, 'class_weight': 0, 'gamma': 4.0, 'learning_rate': 3, 'n_estimators': 3, 'n_job': 0, 'reg_alpha': 1, 'reg_lambda': 4}\n"
     ]
    }
   ],
   "source": [
    "lgb_param_space1 = {\"boosting_type\": hp.choice(\"boosting_type\",[\"gbdt\",\"dart\",\"goss\"]),\n",
    "                    \"learning_rate\":hp.choice(\"learning_rate\", [0.01,0.05,0.1,0.2,0.3]),\n",
    "                  \"gamma\":scope.int(hp.quniform('gamma', 1, 5, 1)),\n",
    "                  'reg_alpha': hp.choice('reg_alpha', [1e-5,1e-2, 0.1, 1, 100,200]),\n",
    "                  'reg_lambda':hp.choice('reg_lambda', [1e-2, 0.1, 1, 100,200]),\n",
    "                  \"n_estimators\" : hp.choice(\"n_estimators\", [10,50,100,300]),\n",
    "                    \"class_weight\":hp.choice(\"class_weight\", [\"balanced\",None]),\n",
    "                  \"n_job\":hp.choice('n_job',[3])}\n",
    "\n",
    "bayes_opt(lgb.LGBMClassifier,lgb_param_space1,xtrain_glove,train_y['severe_toxic'],\"roc_auc\")"
   ]
  },
  {
   "cell_type": "markdown",
   "metadata": {},
   "source": [
    "### Building Layer 1"
   ]
  },
  {
   "cell_type": "code",
   "execution_count": 25,
   "metadata": {},
   "outputs": [],
   "source": [
    "# Class to extend the Sklearn classifier\n",
    "class SklearnHelper(object):\n",
    "    def __init__(self, clf, seed=1234, params=None):\n",
    "        params['random_state'] = seed\n",
    "        self.clf = clf(**params)\n",
    "\n",
    "    def train(self, x_train, y_train):\n",
    "        self.clf.fit(x_train, y_train)\n",
    "\n",
    "    def predict(self, x):\n",
    "        return self.clf.predict(x)\n",
    "    \n",
    "    def predict_proba(self, x):\n",
    "        return self.clf.predict_proba(x)\n",
    "    \n",
    "    def fit(self,x,y):\n",
    "        return self.clf.fit(x,y)\n",
    "    \n",
    "    def feature_importances(self,x,y):\n",
    "        print(self.clf.fit(x,y).feature_importances_)"
   ]
  },
  {
   "cell_type": "code",
   "execution_count": 26,
   "metadata": {},
   "outputs": [],
   "source": [
    "#for models without predict_proba\n",
    "from sklearn.calibration import CalibratedClassifierCV\n",
    "\n",
    "# Class to extend the Sklearn classifier\n",
    "class SklearnHelper2(object):\n",
    "    def __init__(self, clf, seed=1234, params=None):\n",
    "        params['random_state'] = seed\n",
    "        self.clf = CalibratedClassifierCV(clf(**params))\n",
    "\n",
    "    def train(self, x_train, y_train):\n",
    "        self.clf.fit(x_train, y_train)\n",
    "\n",
    "    def predict(self, x):\n",
    "        return self.clf.predict(x)\n",
    "    \n",
    "    def predict_proba(self, x):\n",
    "        return self.clf.predict_proba(x)\n",
    "    \n",
    "    def fit(self,x,y):\n",
    "        return self.clf.fit(x,y)\n",
    "    \n",
    "    def feature_importances(self,x,y):\n",
    "        print(self.clf.fit(x,y).feature_importances_)"
   ]
  },
  {
   "cell_type": "code",
   "execution_count": 271,
   "metadata": {},
   "outputs": [],
   "source": [
    "def get_oof(classifier, X_train, y_train, X_test, ntrain, ntest):\n",
    "    oof_train = np.zeros((ntrain,))\n",
    "    oof_test = np.zeros((ntest,))\n",
    "    oof_test_skf = np.empty((5, ntest))\n",
    "    \n",
    "    skf = StratifiedKFold(n_splits=5,random_state=1234)\n",
    "    \n",
    "    for i, (train_index, test_index) in enumerate(skf.split(X_train, y_train)):\n",
    "        \n",
    "        # train-test split in each fold\n",
    "        X_train_cv, X_test_cv = X_train[train_index], X_train[test_index]\n",
    "        y_train_cv, y_test_cv = y_train[train_index], y_train[test_index]\n",
    "        \n",
    "        model = classifier.fit(X_train_cv, y_train_cv)\n",
    "        \n",
    "        oof_train[test_index] = model.predict_proba(X_test_cv)[:,1]\n",
    "        oof_test_skf[i, :] = model.predict_proba(X_test)[:,1]\n",
    "        \n",
    "    oof_test[:] = oof_test_skf.mean(axis=0)\n",
    "    \n",
    "    return oof_train.reshape(-1,1), oof_test.reshape(-1,1)"
   ]
  },
  {
   "cell_type": "code",
   "execution_count": 272,
   "metadata": {},
   "outputs": [],
   "source": [
    "# first layers\n",
    "\n",
    "tf_log_params = {\n",
    "    'penalty':'l2',\n",
    "    'C': list(np.logspace(-3,3,300))[112],\n",
    "    'class_weight':'balanced',\n",
    "    'fit_intercept':True,\n",
    "    'random_state':1234,\n",
    "    'max_iter':200,\n",
    "    'n_jobs':3\n",
    "}\n",
    "\n",
    "tf_lgb_params = {\n",
    "    'boosting_type': 'gbdt', \n",
    "    'colsample_by_tree': 0.50104456858092, \n",
    "    'gamma': 3.0, \n",
    "    'learning_rate': 0.1, \n",
    "    'n_estimators': 100, \n",
    "    'reg_alpha': 1e-2, \n",
    "    'reg_lambda': 2,\n",
    "    'random_state' :1234,\n",
    "    'n_jobs':3\n",
    "}\n",
    "\n",
    "glove_log_params = {\n",
    "    'penalty':'l1',\n",
    "    'C': list(np.logspace(-3,3,300))[124],\n",
    "    'class_weight':'balanced',\n",
    "    'fit_intercept':True,\n",
    "    'random_state':1234,\n",
    "    'max_iter':500,\n",
    "    'n_jobs':3\n",
    "}\n",
    "\n",
    "glove_lgb_params = {\n",
    "    'boosting_type': \"dart\", \n",
    "    'gamma': 4.0, \n",
    "    'learning_rate': 0.2, \n",
    "    'n_estimators': 300, \n",
    "    'reg_alpha': 1e-2, \n",
    "    'reg_lambda': 200,\n",
    "    'random_state' :1234,\n",
    "    'n_jobs':3\n",
    "}"
   ]
  },
  {
   "cell_type": "code",
   "execution_count": 273,
   "metadata": {},
   "outputs": [],
   "source": [
    "# Create 4 objects that represent our 4 models\n",
    "log_tf = SklearnHelper(clf=LogisticRegression, seed=1234, params=tf_log_params)\n",
    "lgb_tf = SklearnHelper(clf=lgb.LGBMClassifier, seed=1234, params=tf_lgb_params)\n",
    "log_glove = SklearnHelper(clf=LogisticRegression, seed=1234, params=glove_log_params)\n",
    "lgb_glove = SklearnHelper(clf=lgb.LGBMClassifier, seed=1234, params=glove_lgb_params)"
   ]
  },
  {
   "cell_type": "code",
   "execution_count": 63,
   "metadata": {},
   "outputs": [
    {
     "name": "stderr",
     "output_type": "stream",
     "text": [
      "100%|██████████| 63978/63978 [09:53<00:00, 107.75it/s]\n"
     ]
    }
   ],
   "source": [
    "# filter out -1 in test set\n",
    "df_test_label = pd.read_csv(\"test_labels.csv\")\n",
    "df_test_label = df_test_label[df_test_label.toxic != -1]\n",
    "test_id = list(df_test_label.id)\n",
    "\n",
    "df_test = pd.read_csv(\"cleaned_test.csv\")\n",
    "df_test = df_test[df_test.id.isin(test_id)]\n",
    "df_test['comment_text'].fillna(\"unknown\", inplace=True)\n",
    "\n",
    "tf_X_test = tfidf.transform(df_test['comment_text'])\n",
    "glove_X_test = [sent2vec(x) for x in tqdm(df_test['comment_text'])]\n",
    "glove_X_test = np.array(glove_X_test)\n",
    "test_y = df_test_label[label]"
   ]
  },
  {
   "cell_type": "code",
   "execution_count": 274,
   "metadata": {},
   "outputs": [],
   "source": [
    "ntrain = len(df_train)\n",
    "ntest = len(df_test)"
   ]
  },
  {
   "cell_type": "code",
   "execution_count": 275,
   "metadata": {},
   "outputs": [],
   "source": [
    "from sklearn.model_selection import (train_test_split,\n",
    "                                     StratifiedKFold\n",
    "                                    )"
   ]
  },
  {
   "cell_type": "code",
   "execution_count": 276,
   "metadata": {},
   "outputs": [],
   "source": [
    "log_tf_train, log_tf_test = get_oof(log_tf, tf_train_x,train_y['severe_toxic'], tf_X_test, ntrain, ntest) "
   ]
  },
  {
   "cell_type": "code",
   "execution_count": 277,
   "metadata": {},
   "outputs": [],
   "source": [
    "lgb_tf_train, lgb_tf_test = get_oof(lgb_tf, tf_train_x,train_y['severe_toxic'], tf_X_test, ntrain, ntest) "
   ]
  },
  {
   "cell_type": "code",
   "execution_count": 278,
   "metadata": {},
   "outputs": [],
   "source": [
    "log_glove_train, log_glove_test = get_oof(log_glove, xtrain_glove,train_y['severe_toxic'], glove_X_test, ntrain, ntest)"
   ]
  },
  {
   "cell_type": "code",
   "execution_count": 279,
   "metadata": {},
   "outputs": [],
   "source": [
    "lgb_glove_train, lgb_glove_test = get_oof(lgb_glove,xtrain_glove,train_y['severe_toxic'], glove_X_test, ntrain, ntest) "
   ]
  },
  {
   "cell_type": "code",
   "execution_count": 280,
   "metadata": {},
   "outputs": [],
   "source": [
    "final_X_train = np.concatenate((log_tf_train, lgb_tf_train, log_glove_train, lgb_glove_train), axis=1)\n",
    "final_X_test = np.concatenate((log_tf_test, lgb_tf_test, log_glove_test, lgb_glove_test), axis=1)"
   ]
  },
  {
   "cell_type": "markdown",
   "metadata": {},
   "source": [
    "### Correlation of Train and Test Results"
   ]
  },
  {
   "cell_type": "code",
   "execution_count": 281,
   "metadata": {},
   "outputs": [
    {
     "data": {
      "text/plain": [
       "<matplotlib.axes._subplots.AxesSubplot at 0x202425b2860>"
      ]
     },
     "execution_count": 281,
     "metadata": {},
     "output_type": "execute_result"
    },
    {
     "data": {
      "image/png": "[encoded data removed]",
      "text/plain": [
       "<Figure size 720x576 with 2 Axes>"
      ]
     },
     "metadata": {
      "needs_background": "light"
     },
     "output_type": "display_data"
    }
   ],
   "source": [
    "temp = pd.DataFrame(final_X_train,columns=[\"tf_log_model\",\"tf_lgb_model\",\"glove_log_model\",\"glove_lgb_model\"])\n",
    "corr=temp.corr()\n",
    "plt.figure(figsize=(10,8))\n",
    "sns.heatmap(corr,\n",
    "            xticklabels=corr.columns.values,\n",
    "            yticklabels=corr.columns.values, annot=True,cmap='Blues')"
   ]
  },
  {
   "cell_type": "code",
   "execution_count": 282,
   "metadata": {},
   "outputs": [
    {
     "data": {
      "text/plain": [
       "<matplotlib.axes._subplots.AxesSubplot at 0x202326e3940>"
      ]
     },
     "execution_count": 282,
     "metadata": {},
     "output_type": "execute_result"
    },
    {
     "data": {
      "image/png": "[encoded data removed]",
      "text/plain": [
       "<Figure size 720x576 with 2 Axes>"
      ]
     },
     "metadata": {
      "needs_background": "light"
     },
     "output_type": "display_data"
    }
   ],
   "source": [
    "temp2 = pd.DataFrame(final_X_test,columns=[\"tf_log_model\",\"tf_lgb_model\",\"glove_log_model\",\"glove_lgb_model\"])\n",
    "corr=temp2.corr()\n",
    "plt.figure(figsize=(10,8))\n",
    "sns.heatmap(corr,\n",
    "            xticklabels=corr.columns.values,\n",
    "            yticklabels=corr.columns.values, annot=True,cmap='Blues')"
   ]
  },
  {
   "cell_type": "markdown",
   "metadata": {},
   "source": [
    "### L2 Model Optimization and Selection"
   ]
  },
  {
   "cell_type": "code",
   "execution_count": 46,
   "metadata": {},
   "outputs": [],
   "source": [
    "from xgboost import XGBClassifier"
   ]
  },
  {
   "cell_type": "code",
   "execution_count": 47,
   "metadata": {},
   "outputs": [
    {
     "name": "stdout",
     "output_type": "stream",
     "text": [
      "100%|██████████| 100/100 [2:02:43<00:00, 73.64s/it, best loss: -0.9881726170374925]  \n",
      "\n",
      "##### Results\n",
      "Score best parameters:  0.9881726170374925\n",
      "Best parameters:  {'colsample_by_tree': 0.6186679058185952, 'gamma': 4.0, 'learning_rate': 2, 'n_estimators': 0, 'reg_alpha': 2, 'reg_lambda': 0, 'subsample': 0.9500402723893966}\n"
     ]
    }
   ],
   "source": [
    "xgb_param_space1 = {\"learning_rate\": hp.choice(\"learning_rate\", [0.05, 0.07, 0.1, 0.15, 0.2]),\n",
    "                   \"gamma\": scope.int(hp.quniform(\"gamma\", 0,4,1)),\n",
    "                   \"subsample\": hp.uniform(\"subsample\", 0.6, 1.0),\n",
    "                   \"colsample_bytree\": hp.uniform(\"colsample_by_tree\", 0.4, 1),\n",
    "                   \"reg_alpha\": hp.choice(\"reg_alpha\", [1e-5, 0.1, 1, 100]),\n",
    "                   \"reg_lambda\": hp.choice(\"reg_lambda\", [1e-5, 1e-2, 0.1]),\n",
    "                   \"n_estimators\": hp.choice(\"n_estimators\", [100, 200, 500])\n",
    "                  }\n",
    "bayes_opt(XGBClassifier, xgb_param_space1, final_X_train,train_y['severe_toxic'], \"roc_auc\")"
   ]
  },
  {
   "cell_type": "code",
   "execution_count": 48,
   "metadata": {},
   "outputs": [
    {
     "name": "stdout",
     "output_type": "stream",
     "text": [
      "100%|██████████| 100/100 [23:00<00:00, 13.80s/it, best loss: -0.9878939135637242]\n",
      "\n",
      "##### Results\n",
      "Score best parameters:  0.9878939135637242\n",
      "Best parameters:  {'boosting_type': 2, 'class_weight': 1, 'gamma': 2.0, 'learning_rate': 2, 'n_estimators': 2, 'n_job': 0, 'reg_alpha': 1, 'reg_lambda': 3}\n"
     ]
    }
   ],
   "source": [
    "lgb_param_space1 = {\"boosting_type\": hp.choice(\"boosting_type\",[\"gbdt\",\"dart\",\"goss\"]),\n",
    "                    \"learning_rate\":hp.choice(\"learning_rate\", [0.01,0.05,0.1,0.5,1]),\n",
    "                  \"gamma\":scope.int(hp.quniform('gamma', 1, 5, 1)),\n",
    "                  'reg_alpha': hp.choice('reg_alpha', [1e-5,1e-2, 0.1, 1, 100,200]),\n",
    "                  'reg_lambda':hp.choice('reg_lambda', [1e-2, 0.1, 1, 100,200]),\n",
    "                  \"n_estimators\" : hp.choice(\"n_estimators\", [10,50,100,300]),\n",
    "                    \"class_weight\":hp.choice(\"class_weight\", [\"balanced\",None]),\n",
    "                  \"n_job\":hp.choice('n_job',[3])}\n",
    "\n",
    "bayes_opt(lgb.LGBMClassifier,lgb_param_space1,final_X_train,train_y['severe_toxic'],\"roc_auc\")"
   ]
  },
  {
   "cell_type": "code",
   "execution_count": 49,
   "metadata": {},
   "outputs": [
    {
     "name": "stdout",
     "output_type": "stream",
     "text": [
      "100%|██████████| 100/100 [05:21<00:00,  3.21s/it, best loss: -0.9877164925999924]\n",
      "\n",
      "##### Results\n",
      "Score best parameters:  0.9877164925999924\n",
      "Best parameters:  {'C': 49, 'class_weight': 1, 'fit_intercept': 0, 'max_iter': 2, 'n_jobs': 0, 'penalty': 1}\n"
     ]
    }
   ],
   "source": [
    "log_param_space1 = {\"penalty\": hp.choice(\"penalty\", ['l1','l2']),\n",
    "                   \"fit_intercept\" : hp.choice(\"fit_intercept\", [True]),\n",
    "                   \"C\": hp.choice(\"C\", list(np.logspace(-3,3,300))),\n",
    "                   \"max_iter\":hp.choice(\"max_iter\", [100,200,500,1000]),\n",
    "                    \"class_weight\":hp.choice(\"class_weight\", [\"balanced\",None]),\n",
    "                   \"n_jobs\":hp.choice(\"n_jobs\", [3])}\n",
    "\n",
    "bayes_opt(LogisticRegression,log_param_space1,final_X_train,train_y['severe_toxic'],\"roc_auc\")"
   ]
  },
  {
   "cell_type": "code",
   "execution_count": 283,
   "metadata": {},
   "outputs": [
    {
     "name": "stdout",
     "output_type": "stream",
     "text": [
      "ROC_AUC_Score for predict proba: 0.9876951559754994\n"
     ]
    }
   ],
   "source": [
    "xgb_model = XGBClassifier(random_state=1234,\n",
    "                          colsample_bytree=0.6186679058185952,\n",
    "                          gamma=4.0,\n",
    "                          learning_rate=0.1,\n",
    "                          n_estimators=100,\n",
    "                          reg_alpha=1,\n",
    "                          reg_lambda=1e-5,\n",
    "                          subsample=0.9500402723893966\n",
    "                         )\n",
    "\n",
    "xgb_model.fit(final_X_train,train_y['severe_toxic'])\n",
    "y_pred_xgb = xgb_model.predict_proba(final_X_test)[:,1]\n",
    "print(\"ROC_AUC_Score for predict proba:\", roc_auc_score(test_y['severe_toxic'], y_pred_xgb))"
   ]
  },
  {
   "cell_type": "markdown",
   "metadata": {},
   "source": [
    "### Functions to get best Threshold from Train CV"
   ]
  },
  {
   "cell_type": "code",
   "execution_count": 194,
   "metadata": {},
   "outputs": [],
   "source": [
    "def best_score_estimator(label,pred,metric):\n",
    "    self_defined_thresholds = list(np.arange(0.01,1,0.01))\n",
    "\n",
    "    best_score = 0\n",
    "    best_threshold = 0\n",
    "    best_pred = []\n",
    "\n",
    "    for threshold in self_defined_thresholds:\n",
    "        y_pred= []\n",
    "        for j in list(pred): \n",
    "            y_pred.append(1 if j > threshold else 0)\n",
    "        curr_score = metric(label,y_pred)\n",
    "        if curr_score > best_score:\n",
    "            best_score = curr_score\n",
    "            best_threshold = threshold\n",
    "            best_pred = y_pred\n",
    "    return best_pred,best_score,best_threshold"
   ]
  },
  {
   "cell_type": "code",
   "execution_count": 259,
   "metadata": {},
   "outputs": [],
   "source": [
    "def cal_threshold(classifier, X_train, y_train, ntrain, metric):\n",
    "    oof_train = np.zeros((ntrain,))\n",
    "    \n",
    "    skf = StratifiedKFold(n_splits=5,random_state=1234)\n",
    "    \n",
    "    best_score = np.zeros(5)\n",
    "    best_threshold = np.zeros(5)\n",
    "    \n",
    "    for i, (train_index, test_index) in enumerate(skf.split(X_train, y_train)):\n",
    "        \n",
    "        # train-test split in each fold\n",
    "        X_train_cv, X_test_cv = X_train[train_index], X_train[test_index]\n",
    "        y_train_cv, y_test_cv = y_train[train_index], y_train[test_index]\n",
    "        \n",
    "        model = classifier.fit(X_train_cv, y_train_cv)\n",
    "        \n",
    "        oof_train[test_index] = model.predict_proba(X_test_cv)[:,1]\n",
    "        \n",
    "        pred,score,threshold = best_score_estimator(y_test_cv,oof_train[test_index],metric)\n",
    "        best_score[i] = score\n",
    "        best_threshold[i] = threshold\n",
    "       \n",
    "    \n",
    "    return best_score.mean(),best_threshold.mean()"
   ]
  },
  {
   "cell_type": "code",
   "execution_count": 264,
   "metadata": {},
   "outputs": [],
   "source": [
    "def predict_score_estimator(label,pred,metric,thr):\n",
    "    y_pred= []\n",
    "    for j in list(pred): \n",
    "        y_pred.append(1 if j > thr else 0)\n",
    "    curr_score = metric(label,y_pred)\n",
    "\n",
    "    return y_pred,curr_score"
   ]
  },
  {
   "cell_type": "markdown",
   "metadata": {},
   "source": [
    "### Calculation to get Best Threshold for Predict"
   ]
  },
  {
   "cell_type": "code",
   "execution_count": 284,
   "metadata": {},
   "outputs": [],
   "source": [
    "xgb_model = XGBClassifier(random_state=1234,\n",
    "                          colsample_bytree=0.6186679058185952,\n",
    "                          gamma=4.0,\n",
    "                          learning_rate=0.1,\n",
    "                          n_estimators=100,\n",
    "                          reg_alpha=1,\n",
    "                          reg_lambda=1e-5,\n",
    "                          subsample=0.9500402723893966\n",
    "                         )\n",
    "best_train_score,best_train_threshold = cal_threshold(xgb_model,final_X_train,train_y['severe_toxic'], len(train_y['severe_toxic']), roc_auc_score)"
   ]
  },
  {
   "cell_type": "code",
   "execution_count": 285,
   "metadata": {},
   "outputs": [
    {
     "name": "stdout",
     "output_type": "stream",
     "text": [
      "best threshold value: 0.01\n",
      "ROC_AUC_Score for predict: 0.9472970010970546\n"
     ]
    },
    {
     "data": {
      "text/plain": [
       "<matplotlib.axes._subplots.AxesSubplot at 0x20232757ef0>"
      ]
     },
     "execution_count": 285,
     "metadata": {},
     "output_type": "execute_result"
    },
    {
     "data": {
      "image/png": "[encoded data removed]",
      "text/plain": [
       "<Figure size 432x288 with 2 Axes>"
      ]
     },
     "metadata": {
      "needs_background": "light"
     },
     "output_type": "display_data"
    }
   ],
   "source": [
    "print(\"best threshold value:\",best_train_threshold)\n",
    "final_pred,predict_score = predict_score_estimator(test_y['severe_toxic'], y_pred_xgb,roc_auc_score,best_train_threshold)\n",
    "print(\"ROC_AUC_Score for predict:\", predict_score)\n",
    "plot_confusion_matrix(test_y['severe_toxic'], final_pred, [\"Normal\",\"Severe Toxic\"],\n",
    "                          title=\"Confusion Matrix\",\n",
    "                          cmap=plt.cm.Blues)"
   ]
  },
  {
   "cell_type": "markdown",
   "metadata": {},
   "source": [
    "## Obscene Modelling"
   ]
  },
  {
   "cell_type": "code",
   "execution_count": 24,
   "metadata": {},
   "outputs": [
    {
     "name": "stdout",
     "output_type": "stream",
     "text": [
      "100%|██████████| 100/100 [13:36:54<00:00, 490.15s/it, best loss: -0.9871599504754262]     \n",
      "\n",
      "##### Results\n",
      "Score best parameters:  0.9871599504754262\n",
      "Best parameters:  {'C': 154, 'class_weight': 0, 'fit_intercept': 0, 'max_iter': 1, 'n_jobs': 0, 'penalty': 1}\n"
     ]
    }
   ],
   "source": [
    "log_param_space1 = {\"penalty\": hp.choice(\"penalty\", ['l1','l2']),\n",
    "                   \"fit_intercept\" : hp.choice(\"fit_intercept\", [True]),\n",
    "                   \"C\": hp.choice(\"C\", list(np.logspace(-3,3,300))),\n",
    "                   \"max_iter\":hp.choice(\"max_iter\", [100,200,500,1000]),\n",
    "                    \"class_weight\":hp.choice(\"class_weight\", [\"balanced\",None]),\n",
    "                   \"n_jobs\":hp.choice(\"n_jobs\", [3])}\n",
    "\n",
    "bayes_opt(LogisticRegression,log_param_space1,tf_train_x,train_y['obscene'],\"roc_auc\")"
   ]
  },
  {
   "cell_type": "code",
   "execution_count": 90,
   "metadata": {},
   "outputs": [
    {
     "name": "stdout",
     "output_type": "stream",
     "text": [
      "100%|██████████| 100/100 [26:13<00:00, 15.73s/it, best loss: -0.9887989161511289]\n",
      "\n",
      "##### Results\n",
      "Score best parameters:  0.9887989161511289\n",
      "Best parameters:  {'C': 89, 'class_weight': 1, 'fit_intercept': 0, 'max_iter': 4}\n"
     ]
    }
   ],
   "source": [
    "lSVC_param_space1 = {\"fit_intercept\" : hp.choice(\"fit_intercept\", [True,False]),\n",
    "                   \"C\": hp.choice(\"C\", list(np.logspace(-3,3,300))),\n",
    "                   \"max_iter\":hp.choice(\"max_iter\", [100,200,500,1000,2000]),\n",
    "                \"class_weight\":hp.choice(\"class_weight\", [\"balanced\",None])}\n",
    "\n",
    "bayes_opt(LinearSVC,lSVC_param_space1,tf_train_x,train_y['obscene'],\"roc_auc\")"
   ]
  },
  {
   "cell_type": "code",
   "execution_count": 217,
   "metadata": {},
   "outputs": [],
   "source": [
    "log_model_o = LogisticRegression(random_state=1234,\n",
    "                               penalty='l2',\n",
    "                               fit_intercept=True,\n",
    "                               C=list(np.logspace(-3,3,300))[154],\n",
    "                               max_iter=200,\n",
    "                               class_weight=\"balanced\",\n",
    "                               n_jobs=3)"
   ]
  },
  {
   "cell_type": "code",
   "execution_count": 218,
   "metadata": {},
   "outputs": [
    {
     "name": "stdout",
     "output_type": "stream",
     "text": [
      "ROC_AUC_Score for predict proba: 0.9756755185438575\n"
     ]
    }
   ],
   "source": [
    "log_model_o.fit(tf_train_x,train_y['obscene'])\n",
    "y_pred_log_o_proba = log_model_o.predict_proba(tf_X_test)[:,1]\n",
    "print(\"ROC_AUC_Score for predict proba:\", roc_auc_score(test_y['obscene'], y_pred_log_o_proba))"
   ]
  },
  {
   "cell_type": "markdown",
   "metadata": {},
   "source": [
    "### Calculation to get Best Threshold for Predict"
   ]
  },
  {
   "cell_type": "code",
   "execution_count": 267,
   "metadata": {},
   "outputs": [],
   "source": [
    "log_model_o = LogisticRegression(random_state=1234,\n",
    "                               penalty='l2',\n",
    "                               fit_intercept=True,\n",
    "                               C=list(np.logspace(-3,3,300))[154],\n",
    "                               max_iter=200,\n",
    "                               class_weight=\"balanced\",\n",
    "                               n_jobs=3)\n",
    "best_train_score,best_train_threshold = cal_threshold(log_model_o,tf_train_x,train_y['obscene'], len(train_y['obscene']), roc_auc_score)"
   ]
  },
  {
   "cell_type": "code",
   "execution_count": 268,
   "metadata": {},
   "outputs": [
    {
     "name": "stdout",
     "output_type": "stream",
     "text": [
      "best threshold value: 0.23000000000000004\n",
      "ROC_AUC_Score for predict: 0.9203059683128544\n"
     ]
    },
    {
     "data": {
      "text/plain": [
       "<matplotlib.axes._subplots.AxesSubplot at 0x20245d16eb8>"
      ]
     },
     "execution_count": 268,
     "metadata": {},
     "output_type": "execute_result"
    },
    {
     "data": {
      "image/png": "[encoded data removed]",
      "text/plain": [
       "<Figure size 432x288 with 2 Axes>"
      ]
     },
     "metadata": {
      "needs_background": "light"
     },
     "output_type": "display_data"
    }
   ],
   "source": [
    "print(\"best threshold value:\",best_train_threshold)\n",
    "final_pred,predict_score = predict_score_estimator(test_y['obscene'], y_pred_log_o_proba,roc_auc_score,best_train_threshold)\n",
    "print(\"ROC_AUC_Score for predict:\", predict_score)\n",
    "plot_confusion_matrix(test_y['obscene'], final_pred, [\"Normal\",\"Obscene\"],\n",
    "                          title=\"Confusion Matrix\",\n",
    "                          cmap=plt.cm.Blues)"
   ]
  },
  {
   "cell_type": "markdown",
   "metadata": {},
   "source": [
    "## Identity Hate Modelling"
   ]
  },
  {
   "cell_type": "code",
   "execution_count": 54,
   "metadata": {},
   "outputs": [
    {
     "name": "stdout",
     "output_type": "stream",
     "text": [
      "100%|██████████| 100/100 [14:01:12<00:00, 504.72s/it, best loss: -0.9768320743243564]   \n",
      "\n",
      "##### Results\n",
      "Score best parameters:  0.9768320743243564\n",
      "Best parameters:  {'C': 130, 'class_weight': 0, 'fit_intercept': 0, 'max_iter': 0, 'n_jobs': 0, 'penalty': 1}\n"
     ]
    }
   ],
   "source": [
    "log_param_space1 = {\"penalty\": hp.choice(\"penalty\", ['l1','l2']),\n",
    "                   \"fit_intercept\" : hp.choice(\"fit_intercept\", [True]),\n",
    "                   \"C\": hp.choice(\"C\", list(np.logspace(-3,3,300))),\n",
    "                   \"max_iter\":hp.choice(\"max_iter\", [100,200,500,1000]),\n",
    "                    \"class_weight\":hp.choice(\"class_weight\", [\"balanced\",None]),\n",
    "                   \"n_jobs\":hp.choice(\"n_jobs\", [3])}\n",
    "\n",
    "bayes_opt(LogisticRegression,log_param_space1,tf_train_x,train_y['identity_hate'],\"roc_auc\")"
   ]
  },
  {
   "cell_type": "code",
   "execution_count": 107,
   "metadata": {},
   "outputs": [
    {
     "name": "stdout",
     "output_type": "stream",
     "text": [
      "100%|██████████| 100/100 [19:05<00:00, 11.46s/it, best loss: -0.9762316555891382]\n",
      "\n",
      "##### Results\n",
      "Score best parameters:  0.9762316555891382\n",
      "Best parameters:  {'C': 62, 'class_weight': 0, 'fit_intercept': 0, 'max_iter': 3}\n"
     ]
    }
   ],
   "source": [
    "lSVC_param_space1 = {\"fit_intercept\" : hp.choice(\"fit_intercept\", [True,False]),\n",
    "                   \"C\": hp.choice(\"C\", list(np.logspace(-3,3,300))),\n",
    "                   \"max_iter\":hp.choice(\"max_iter\", [100,200,500,1000,2000]),\n",
    "                \"class_weight\":hp.choice(\"class_weight\", [\"balanced\",None])}\n",
    "\n",
    "bayes_opt(LinearSVC,lSVC_param_space1,tf_train_x,train_y['identity_hate'],\"roc_auc\")"
   ]
  },
  {
   "cell_type": "code",
   "execution_count": 222,
   "metadata": {},
   "outputs": [],
   "source": [
    "log_model_i = LogisticRegression(random_state=1234,\n",
    "                               penalty='l2',\n",
    "                               fit_intercept=True,\n",
    "                               C=list(np.logspace(-3,3,300))[130],\n",
    "                               max_iter=100,\n",
    "                               class_weight=\"balanced\",\n",
    "                               n_jobs=3)"
   ]
  },
  {
   "cell_type": "code",
   "execution_count": 223,
   "metadata": {},
   "outputs": [
    {
     "name": "stdout",
     "output_type": "stream",
     "text": [
      "ROC_AUC_Score for predict proba: 0.9807530035480655\n"
     ]
    }
   ],
   "source": [
    "log_model_i.fit(tf_train_x,train_y['identity_hate'])\n",
    "y_pred_log_i_proba = log_model_i.predict_proba(tf_X_test)[:,1]\n",
    "print(\"ROC_AUC_Score for predict proba:\", roc_auc_score(test_y['identity_hate'], y_pred_log_i_proba))"
   ]
  },
  {
   "cell_type": "markdown",
   "metadata": {},
   "source": [
    "### Calculation to get Best Threshold for Predict"
   ]
  },
  {
   "cell_type": "code",
   "execution_count": 269,
   "metadata": {},
   "outputs": [],
   "source": [
    "log_model_i = LogisticRegression(random_state=1234,\n",
    "                               penalty='l2',\n",
    "                               fit_intercept=True,\n",
    "                               C=list(np.logspace(-3,3,300))[130],\n",
    "                               max_iter=100,\n",
    "                               class_weight=\"balanced\",\n",
    "                               n_jobs=3)\n",
    "best_train_score,best_train_threshold = cal_threshold(log_model_i,tf_train_x,train_y['identity_hate'], len(train_y['identity_hate']), roc_auc_score)"
   ]
  },
  {
   "cell_type": "code",
   "execution_count": 270,
   "metadata": {},
   "outputs": [
    {
     "name": "stdout",
     "output_type": "stream",
     "text": [
      "best threshold value: 0.17600000000000002\n",
      "ROC_AUC_Score for predict: 0.9283592204059407\n"
     ]
    },
    {
     "data": {
      "text/plain": [
       "<matplotlib.axes._subplots.AxesSubplot at 0x20245d08b70>"
      ]
     },
     "execution_count": 270,
     "metadata": {},
     "output_type": "execute_result"
    },
    {
     "data": {
      "image/png": "[encoded data removed]",
      "text/plain": [
       "<Figure size 432x288 with 2 Axes>"
      ]
     },
     "metadata": {
      "needs_background": "light"
     },
     "output_type": "display_data"
    }
   ],
   "source": [
    "print(\"best threshold value:\",best_train_threshold)\n",
    "final_pred,predict_score = predict_score_estimator(test_y['identity_hate'], y_pred_log_i_proba,roc_auc_score,best_train_threshold)\n",
    "print(\"ROC_AUC_Score for predict:\", predict_score)\n",
    "plot_confusion_matrix(test_y['identity_hate'], final_pred, [\"Normal\",'Identity_Hate'],\n",
    "                          title=\"Confusion Matrix\",\n",
    "                          cmap=plt.cm.Blues)"
   ]
  }
 ],
 "metadata": {
  "kernelspec": {
   "display_name": "Python 3",
   "language": "python",
   "name": "python3"
  }
 },
 "nbformat": 4,
 "nbformat_minor": 2
}
