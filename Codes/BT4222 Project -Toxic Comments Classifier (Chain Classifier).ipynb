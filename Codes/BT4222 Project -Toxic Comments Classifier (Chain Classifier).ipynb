{
 "cells": [
  {
   "cell_type": "markdown",
   "metadata": {},
   "source": [
    "<h3> BT4222 Project - Toxic Comments Classifier (Chain Classifier) </h3>\n",
    "\n",
    "In this notebook, we will train the clain classifier which investigates 720 different permutations using logistic regresison as our baseline model. For more information please refer to the report."
   ]
  },
  {
   "cell_type": "code",
   "execution_count": null,
   "metadata": {
    "ExecuteTime": {
     "end_time": "2019-11-21T15:04:07.072210Z",
     "start_time": "2019-11-21T15:04:06.793515Z"
    }
   },
   "outputs": [],
   "source": [
    "import pandas as pd\n",
    "import numpy as np\n",
    "import os\n",
    "import nltk\n",
    "import re\n",
    "\n",
    "\n",
    "import matplotlib.pyplot as plt\n",
    "import seaborn as sns\n",
    "%matplotlib inline\n",
    "\n",
    "from nltk.tokenize import RegexpTokenizer,sent_tokenize,word_tokenize\n",
    "from nltk.corpus import stopwords\n",
    "from nltk.stem.porter import PorterStemmer\n",
    "from nltk.stem import WordNetLemmatizer \n",
    "from sklearn.feature_extraction.text import CountVectorizer\n",
    "from sklearn.feature_extraction.text import TfidfVectorizer\n",
    "from sklearn.ensemble import AdaBoostClassifier,ExtraTreesClassifier\n",
    "from sklearn import tree, manifold,datasets\n",
    "from sklearn.model_selection import KFold, cross_val_score\n",
    "\n",
    "from sklearn.tree import DecisionTreeClassifier\n",
    "from sklearn.linear_model import LogisticRegression, SGDClassifier\n",
    "from sklearn.model_selection import KFold, cross_val_score\n",
    "from sklearn.ensemble import RandomForestClassifier,BaggingClassifier, AdaBoostClassifier, GradientBoostingClassifier\n",
    "from sklearn.neighbors import KNeighborsClassifier\n",
    "from sklearn.svm import SVC\n",
    "from sklearn.svm import LinearSVC\n",
    "from sklearn import tree\n",
    "from sklearn.metrics import accuracy_score, f1_score, precision_score, recall_score, classification_report\n",
    "from sklearn.metrics import confusion_matrix, roc_curve, roc_auc_score, auc, make_scorer , recall_score, accuracy_score\n",
    "from sklearn.model_selection import GridSearchCV,KFold, cross_val_score\n",
    "from sklearn.cluster import KMeans\n",
    "#import lightgbm as lgb\n",
    "import xgboost as xgb\n",
    "from sklearn.naive_bayes import GaussianNB,BernoulliNB\n",
    "from sklearn.discriminant_analysis import LinearDiscriminantAnalysis\n",
    "from sklearn.neural_network import MLPClassifier\n",
    "from sklearn.naive_bayes import GaussianNB,BernoulliNB,MultinomialNB\n",
    "from sklearn.model_selection import validation_curve\n",
    "from sklearn.feature_selection import SelectKBest, chi2, f_classif\n",
    "\n",
    "from sklearn.decomposition import PCA\n",
    "\n",
    "from hyperopt import hp\n",
    "from hyperopt.pyll import scope\n",
    "from hyperopt import fmin, tpe, hp, STATUS_OK, Trials\n",
    "from sklearn.decomposition import TruncatedSVD\n",
    "from sklearn import preprocessing\n",
    "\n",
    "from sklearn.multioutput import ClassifierChain\n",
    "from sklearn.multiclass import OneVsRestClassifier\n",
    "from sklearn.linear_model import LogisticRegression\n",
    "\n",
    "import warnings\n",
    "warnings.filterwarnings(\"ignore\")"
   ]
  },
  {
   "cell_type": "code",
   "execution_count": 7,
   "metadata": {
    "ExecuteTime": {
     "end_time": "2019-11-21T15:04:10.768292Z",
     "start_time": "2019-11-21T15:04:10.096456Z"
    }
   },
   "outputs": [],
   "source": [
    "df_train = pd.read_csv(\"cleaned_train.csv\")"
   ]
  },
  {
   "cell_type": "code",
   "execution_count": 8,
   "metadata": {
    "ExecuteTime": {
     "end_time": "2019-11-21T15:04:10.956944Z",
     "start_time": "2019-11-21T15:04:10.794130Z"
    }
   },
   "outputs": [
    {
     "data": {
      "text/html": [
       "<div>\n",
       "<style scoped>\n",
       "    .dataframe tbody tr th:only-of-type {\n",
       "        vertical-align: middle;\n",
       "    }\n",
       "\n",
       "    .dataframe tbody tr th {\n",
       "        vertical-align: top;\n",
       "    }\n",
       "\n",
       "    .dataframe thead th {\n",
       "        text-align: right;\n",
       "    }\n",
       "</style>\n",
       "<table border=\"1\" class=\"dataframe\">\n",
       "  <thead>\n",
       "    <tr style=\"text-align: right;\">\n",
       "      <th></th>\n",
       "      <th>id</th>\n",
       "      <th>toxic</th>\n",
       "      <th>severe_toxic</th>\n",
       "      <th>obscene</th>\n",
       "      <th>threat</th>\n",
       "      <th>insult</th>\n",
       "      <th>identity_hate</th>\n",
       "    </tr>\n",
       "  </thead>\n",
       "  <tbody>\n",
       "    <tr>\n",
       "      <th>5</th>\n",
       "      <td>0001ea8717f6de06</td>\n",
       "      <td>0</td>\n",
       "      <td>0</td>\n",
       "      <td>0</td>\n",
       "      <td>0</td>\n",
       "      <td>0</td>\n",
       "      <td>0</td>\n",
       "    </tr>\n",
       "    <tr>\n",
       "      <th>7</th>\n",
       "      <td>000247e83dcc1211</td>\n",
       "      <td>0</td>\n",
       "      <td>0</td>\n",
       "      <td>0</td>\n",
       "      <td>0</td>\n",
       "      <td>0</td>\n",
       "      <td>0</td>\n",
       "    </tr>\n",
       "    <tr>\n",
       "      <th>11</th>\n",
       "      <td>0002f87b16116a7f</td>\n",
       "      <td>0</td>\n",
       "      <td>0</td>\n",
       "      <td>0</td>\n",
       "      <td>0</td>\n",
       "      <td>0</td>\n",
       "      <td>0</td>\n",
       "    </tr>\n",
       "    <tr>\n",
       "      <th>13</th>\n",
       "      <td>0003e1cccfd5a40a</td>\n",
       "      <td>0</td>\n",
       "      <td>0</td>\n",
       "      <td>0</td>\n",
       "      <td>0</td>\n",
       "      <td>0</td>\n",
       "      <td>0</td>\n",
       "    </tr>\n",
       "    <tr>\n",
       "      <th>14</th>\n",
       "      <td>00059ace3e3e9a53</td>\n",
       "      <td>0</td>\n",
       "      <td>0</td>\n",
       "      <td>0</td>\n",
       "      <td>0</td>\n",
       "      <td>0</td>\n",
       "      <td>0</td>\n",
       "    </tr>\n",
       "  </tbody>\n",
       "</table>\n",
       "</div>"
      ],
      "text/plain": [
       "                  id  toxic  severe_toxic  obscene  threat  insult  \\\n",
       "5   0001ea8717f6de06      0             0        0       0       0   \n",
       "7   000247e83dcc1211      0             0        0       0       0   \n",
       "11  0002f87b16116a7f      0             0        0       0       0   \n",
       "13  0003e1cccfd5a40a      0             0        0       0       0   \n",
       "14  00059ace3e3e9a53      0             0        0       0       0   \n",
       "\n",
       "    identity_hate  \n",
       "5               0  \n",
       "7               0  \n",
       "11              0  \n",
       "13              0  \n",
       "14              0  "
      ]
     },
     "execution_count": 8,
     "metadata": {},
     "output_type": "execute_result"
    }
   ],
   "source": [
    "# filter out -1\n",
    "df_test_label = pd.read_csv(\"test_labels.csv\")\n",
    "df_test_label = df_test_label[df_test_label.toxic != -1]\n",
    "test_id = list(df_test_label.id)\n",
    "df_test_label.head()"
   ]
  },
  {
   "cell_type": "code",
   "execution_count": 9,
   "metadata": {
    "ExecuteTime": {
     "end_time": "2019-11-21T15:04:11.985949Z",
     "start_time": "2019-11-21T15:04:11.384291Z"
    }
   },
   "outputs": [
    {
     "data": {
      "text/html": [
       "<div>\n",
       "<style scoped>\n",
       "    .dataframe tbody tr th:only-of-type {\n",
       "        vertical-align: middle;\n",
       "    }\n",
       "\n",
       "    .dataframe tbody tr th {\n",
       "        vertical-align: top;\n",
       "    }\n",
       "\n",
       "    .dataframe thead th {\n",
       "        text-align: right;\n",
       "    }\n",
       "</style>\n",
       "<table border=\"1\" class=\"dataframe\">\n",
       "  <thead>\n",
       "    <tr style=\"text-align: right;\">\n",
       "      <th></th>\n",
       "      <th>id</th>\n",
       "      <th>comment_text</th>\n",
       "    </tr>\n",
       "  </thead>\n",
       "  <tbody>\n",
       "    <tr>\n",
       "      <th>5</th>\n",
       "      <td>0001ea8717f6de06</td>\n",
       "      <td>thank understanding think highly would revert ...</td>\n",
       "    </tr>\n",
       "    <tr>\n",
       "      <th>7</th>\n",
       "      <td>000247e83dcc1211</td>\n",
       "      <td>dear god site horrible</td>\n",
       "    </tr>\n",
       "    <tr>\n",
       "      <th>11</th>\n",
       "      <td>0002f87b16116a7f</td>\n",
       "      <td>somebody invariably try add religion really me...</td>\n",
       "    </tr>\n",
       "    <tr>\n",
       "      <th>13</th>\n",
       "      <td>0003e1cccfd5a40a</td>\n",
       "      <td>says right type type institution needed case t...</td>\n",
       "    </tr>\n",
       "    <tr>\n",
       "      <th>14</th>\n",
       "      <td>00059ace3e3e9a53</td>\n",
       "      <td>adding new product list make sure relevant add...</td>\n",
       "    </tr>\n",
       "  </tbody>\n",
       "</table>\n",
       "</div>"
      ],
      "text/plain": [
       "                  id                                       comment_text\n",
       "5   0001ea8717f6de06  thank understanding think highly would revert ...\n",
       "7   000247e83dcc1211                             dear god site horrible\n",
       "11  0002f87b16116a7f  somebody invariably try add religion really me...\n",
       "13  0003e1cccfd5a40a  says right type type institution needed case t...\n",
       "14  00059ace3e3e9a53  adding new product list make sure relevant add..."
      ]
     },
     "execution_count": 9,
     "metadata": {},
     "output_type": "execute_result"
    }
   ],
   "source": [
    "df_test = pd.read_csv(\"cleaned_test.csv\")\n",
    "df_test = df_test[df_test.id.isin(test_id)]\n",
    "df_test.head()"
   ]
  },
  {
   "cell_type": "code",
   "execution_count": 10,
   "metadata": {
    "ExecuteTime": {
     "end_time": "2019-11-21T15:04:12.126549Z",
     "start_time": "2019-11-21T15:04:12.029547Z"
    }
   },
   "outputs": [],
   "source": [
    "df_train['comment_text'].fillna(\"unknown\", inplace=True)\n",
    "df_test['comment_text'].fillna(\"unknown\", inplace=True)"
   ]
  },
  {
   "cell_type": "code",
   "execution_count": 11,
   "metadata": {
    "ExecuteTime": {
     "end_time": "2019-11-21T15:04:12.553359Z",
     "start_time": "2019-11-21T15:04:12.550596Z"
    }
   },
   "outputs": [],
   "source": [
    "label = list(df_train.columns[2:])"
   ]
  },
  {
   "cell_type": "code",
   "execution_count": 12,
   "metadata": {
    "ExecuteTime": {
     "end_time": "2019-11-21T15:04:13.154807Z",
     "start_time": "2019-11-21T15:04:13.139701Z"
    },
    "scrolled": true
   },
   "outputs": [],
   "source": [
    "train_y = df_train[label]\n",
    "test_y = df_test_label[label]"
   ]
  },
  {
   "cell_type": "code",
   "execution_count": 13,
   "metadata": {
    "ExecuteTime": {
     "end_time": "2019-11-21T15:04:28.598932Z",
     "start_time": "2019-11-21T15:04:13.852132Z"
    }
   },
   "outputs": [],
   "source": [
    "tfidf = TfidfVectorizer(strip_accents='unicode',\n",
    "                              analyzer='word',\n",
    "                              norm='l2',\n",
    "                              ngram_range=(1,1),\n",
    "                              stop_words=\"english\",\n",
    "                              lowercase=True,\n",
    "                             )\n",
    "\n",
    "df = pd.concat([df_train, df_test], axis=0)\n",
    "data = tfidf.fit(df['comment_text'])\n",
    "tf_train_x = tfidf.transform(df_train['comment_text'])\n",
    "tf_X_test = tfidf.transform(df_test['comment_text'])"
   ]
  },
  {
   "cell_type": "code",
   "execution_count": 14,
   "metadata": {
    "ExecuteTime": {
     "end_time": "2019-11-21T15:04:28.719997Z",
     "start_time": "2019-11-21T15:04:28.715800Z"
    }
   },
   "outputs": [
    {
     "data": {
      "text/plain": [
       "720"
      ]
     },
     "execution_count": 14,
     "metadata": {},
     "output_type": "execute_result"
    }
   ],
   "source": [
    "from itertools import permutations \n",
    "orders = list(permutations(range(0, 6))) \n",
    "len(orders)"
   ]
  },
  {
   "cell_type": "code",
   "execution_count": 35,
   "metadata": {
    "ExecuteTime": {
     "end_time": "2019-11-22T06:54:28.363089Z",
     "start_time": "2019-11-22T04:21:24.569536Z"
    }
   },
   "outputs": [
    {
     "data": {
      "application/vnd.jupyter.widget-view+json": {
       "model_id": "9a453a61d30c4a909b94ded504956522",
       "version_major": 2,
       "version_minor": 0
      },
      "text/plain": [
       "HBox(children=(IntProgress(value=0, max=720), HTML(value='')))"
      ]
     },
     "metadata": {},
     "output_type": "display_data"
    },
    {
     "name": "stdout",
     "output_type": "stream",
     "text": [
      "0.9591597184931395\n",
      "0.9591894464860267\n",
      "0.9592066103526158\n",
      "0.9593398677366043\n",
      "0.9593694228057056\n",
      "0.9593863299499032\n",
      "0.9595222002733474\n",
      "0.9595456813700036\n",
      "0.9595628158686778\n",
      "\n"
     ]
    }
   ],
   "source": [
    "from tqdm import tqdm_notebook as tqdm\n",
    "base_lr = LogisticRegression(random_state=1234)\n",
    "chains =[ClassifierChain(base_lr, order=list(i), random_state=1234) for i in orders]\n",
    "\n",
    "best = 0\n",
    "bestModel = None\n",
    "\n",
    "for j,chain in enumerate(tqdm(chains)):\n",
    "    chain.fit(tf_train_x,train_y) \n",
    "    chain_pred = chain.predict_proba(tf_X_test)\n",
    "    curr_score = roc_auc_score(np.array(test_y), chain_pred, average='weighted')\n",
    "    if curr_score > best:\n",
    "        print(curr_score)\n",
    "        best = curr_score\n",
    "        bestModel = chain\n"
   ]
  },
  {
   "cell_type": "code",
   "execution_count": 36,
   "metadata": {
    "ExecuteTime": {
     "end_time": "2019-11-22T06:54:37.834092Z",
     "start_time": "2019-11-22T06:54:37.827609Z"
    }
   },
   "outputs": [
    {
     "data": {
      "text/plain": [
       "ClassifierChain(base_estimator=LogisticRegression(C=1.0, class_weight=None,\n",
       "                                                  dual=False,\n",
       "                                                  fit_intercept=True,\n",
       "                                                  intercept_scaling=1,\n",
       "                                                  l1_ratio=None, max_iter=100,\n",
       "                                                  multi_class='warn',\n",
       "                                                  n_jobs=None, penalty='l2',\n",
       "                                                  random_state=1234,\n",
       "                                                  solver='warn', tol=0.0001,\n",
       "                                                  verbose=0, warm_start=False),\n",
       "                cv=None, order=[5, 4, 3, 2, 1, 0], random_state=1234)"
      ]
     },
     "execution_count": 36,
     "metadata": {},
     "output_type": "execute_result"
    }
   ],
   "source": [
    "chain"
   ]
  }
 ],
 "metadata": {
  "kernelspec": {
   "display_name": "Python 3",
   "language": "python",
   "name": "python3"
  },
  "language_info": {
   "codemirror_mode": {
    "name": "ipython",
    "version": 3
   },
   "file_extension": ".py",
   "mimetype": "text/x-python",
   "name": "python",
   "nbconvert_exporter": "python",
   "pygments_lexer": "ipython3",
   "version": "3.7.3"
  },
  "toc": {
   "base_numbering": 1,
   "nav_menu": {},
   "number_sections": false,
   "sideBar": true,
   "skip_h1_title": false,
   "title_cell": "Table of Contents",
   "title_sidebar": "Contents",
   "toc_cell": false,
   "toc_position": {},
   "toc_section_display": true,
   "toc_window_display": false
  },
  "varInspector": {
   "cols": {
    "lenName": 16,
    "lenType": 16,
    "lenVar": 40
   },
   "kernels_config": {
    "python": {
     "delete_cmd_postfix": "",
     "delete_cmd_prefix": "del ",
     "library": "var_list.py",
     "varRefreshCmd": "print(var_dic_list())"
    },
    "r": {
     "delete_cmd_postfix": ") ",
     "delete_cmd_prefix": "rm(",
     "library": "var_list.r",
     "varRefreshCmd": "cat(var_dic_list()) "
    }
   },
   "types_to_exclude": [
    "module",
    "function",
    "builtin_function_or_method",
    "instance",
    "_Feature"
   ],
   "window_display": false
  }
 },
 "nbformat": 4,
 "nbformat_minor": 2
}
