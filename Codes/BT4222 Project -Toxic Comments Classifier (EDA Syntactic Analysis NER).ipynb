{
 "cells": [
  {
   "cell_type": "markdown",
   "metadata": {},
   "source": [
    "# BT4222 Project -Toxic Comments Classifier (EDA Syntactic Analysis NER)\n",
    "\n",
    "In this notebook, we will perform EDA on the data using techniques taught in class. We will primarily be doing Syntactic Analysis (NER), semantic analysis (Topic Modelling-Separate Notebook), Sentiment Analysis(Separate Notebook) and Statistical Analysis(Separate Notebook). For full elaboration on the results, please refer to the report."
   ]
  },
  {
   "cell_type": "code",
   "execution_count": 1,
   "metadata": {
    "ExecuteTime": {
     "end_time": "2019-11-14T16:14:33.504872Z",
     "start_time": "2019-11-14T16:14:29.119652Z"
    }
   },
   "outputs": [
    {
     "name": "stdout",
     "output_type": "stream",
     "text": [
      "Use device: cpu\n",
      "---\n",
      "Loading: tokenize\n",
      "With settings: \n",
      "{'model_path': '/Users/vincent/stanfordnlp_resources/en_ewt_models/en_ewt_tokenizer.pt', 'lang': 'en', 'shorthand': 'en_ewt', 'mode': 'predict'}\n",
      "---\n",
      "Loading: pos\n",
      "With settings: \n",
      "{'model_path': '/Users/vincent/stanfordnlp_resources/en_ewt_models/en_ewt_tagger.pt', 'pretrain_path': '/Users/vincent/stanfordnlp_resources/en_ewt_models/en_ewt.pretrain.pt', 'lang': 'en', 'shorthand': 'en_ewt', 'mode': 'predict'}\n",
      "---\n",
      "Loading: lemma\n",
      "With settings: \n",
      "{'model_path': '/Users/vincent/stanfordnlp_resources/en_ewt_models/en_ewt_lemmatizer.pt', 'lang': 'en', 'shorthand': 'en_ewt', 'mode': 'predict'}\n",
      "Building an attentional Seq2Seq model...\n",
      "Using a Bi-LSTM encoder\n",
      "Using soft attention for LSTM.\n",
      "Finetune all embeddings.\n",
      "[Running seq2seq lemmatizer with edit classifier]\n",
      "---\n",
      "Loading: depparse\n",
      "With settings: \n",
      "{'model_path': '/Users/vincent/stanfordnlp_resources/en_ewt_models/en_ewt_parser.pt', 'pretrain_path': '/Users/vincent/stanfordnlp_resources/en_ewt_models/en_ewt.pretrain.pt', 'lang': 'en', 'shorthand': 'en_ewt', 'mode': 'predict'}\n",
      "Done loading processors!\n",
      "---\n"
     ]
    }
   ],
   "source": [
    "import os\n",
    "import itertools\n",
    "import stanfordnlp\n",
    "import pandas as pd\n",
    "from stanfordnlp.server import CoreNLPClient\n",
    "\n",
    "project_dir = '/Users/vincent/Desktop/NUS/Y4S1/BT4222/Week 5/'\n",
    "stanford_dir = '/Users/vincent/Downloads/stanford-corenlp-full-2018-10-05'\n",
    "os.environ['CORENLP_HOME'] = stanford_dir\n",
    "en_nlp = stanfordnlp.Pipeline(lang='en')"
   ]
  },
  {
   "cell_type": "code",
   "execution_count": 2,
   "metadata": {
    "ExecuteTime": {
     "end_time": "2019-11-14T16:14:36.690656Z",
     "start_time": "2019-11-14T16:14:35.371224Z"
    }
   },
   "outputs": [],
   "source": [
    "from nltk.tag import StanfordNERTagger\n",
    "from nltk.tokenize import word_tokenize\n",
    "\n",
    "st = StanfordNERTagger('/Users/vincent/stanford-ner-2018-10-16/classifiers/english.all.3class.distsim.crf.ser.gz',\n",
    "\t\t\t\t\t   '/Users/vincent/stanford-ner-2018-10-16/stanford-ner.jar',\n",
    "\t\t\t\t\t   encoding='utf-8')"
   ]
  },
  {
   "cell_type": "code",
   "execution_count": 6,
   "metadata": {
    "ExecuteTime": {
     "end_time": "2019-11-14T16:25:45.188047Z",
     "start_time": "2019-11-14T16:25:44.362416Z"
    }
   },
   "outputs": [],
   "source": [
    "df = pd.read_csv('clean_train.csv').iloc[:, 1:]"
   ]
  },
  {
   "cell_type": "code",
   "execution_count": 7,
   "metadata": {
    "ExecuteTime": {
     "end_time": "2019-11-14T16:14:49.335579Z",
     "start_time": "2019-11-14T16:14:49.306494Z"
    }
   },
   "outputs": [],
   "source": [
    "df = df[(df.toxic == 1 ) | (df.severe_toxic == 1 ) | (df.obscene == 1 ) | (df.threat == 1 ) | (df.insult == 1 ) | (df.identity_hate == 1 )]"
   ]
  },
  {
   "cell_type": "code",
   "execution_count": 8,
   "metadata": {
    "ExecuteTime": {
     "end_time": "2019-11-14T16:26:08.223835Z",
     "start_time": "2019-11-14T16:26:03.864642Z"
    }
   },
   "outputs": [],
   "source": [
    "df_w = pd.DataFrame()\n",
    "lst = []\n",
    "for l in df.comment_text.str.split(' '):\n",
    "    lst.extend(l)"
   ]
  },
  {
   "cell_type": "code",
   "execution_count": 31,
   "metadata": {
    "ExecuteTime": {
     "end_time": "2019-11-14T16:27:14.189495Z",
     "start_time": "2019-11-14T16:27:13.756457Z"
    }
   },
   "outputs": [],
   "source": [
    "z = pd.Series(lst)\n",
    "df_w['w'] = z"
   ]
  },
  {
   "cell_type": "code",
   "execution_count": 33,
   "metadata": {
    "ExecuteTime": {
     "end_time": "2019-11-14T16:29:11.032889Z",
     "start_time": "2019-11-14T16:29:11.026224Z"
    }
   },
   "outputs": [
    {
     "data": {
      "text/plain": [
       "(2970561, 1)"
      ]
     },
     "execution_count": 33,
     "metadata": {},
     "output_type": "execute_result"
    }
   ],
   "source": [
    "df_w.shape"
   ]
  },
  {
   "cell_type": "code",
   "execution_count": 70,
   "metadata": {
    "ExecuteTime": {
     "end_time": "2019-11-14T16:49:11.044574Z",
     "start_time": "2019-11-14T16:49:10.701777Z"
    }
   },
   "outputs": [],
   "source": [
    "df_w_sample = df_w.sample(700000)"
   ]
  },
  {
   "cell_type": "code",
   "execution_count": 71,
   "metadata": {
    "ExecuteTime": {
     "end_time": "2019-11-14T16:49:13.238288Z",
     "start_time": "2019-11-14T16:49:12.637954Z"
    }
   },
   "outputs": [],
   "source": [
    "df_w_sample = df_w_sample[df_w_sample.w.str.contains(r'\\w+')]"
   ]
  },
  {
   "cell_type": "code",
   "execution_count": 72,
   "metadata": {
    "ExecuteTime": {
     "end_time": "2019-11-14T16:52:25.222990Z",
     "start_time": "2019-11-14T16:49:14.723922Z"
    }
   },
   "outputs": [],
   "source": [
    "df_w_sample['ner'] = list(list(zip(*st.tag(df_w_sample['w'])))[1])"
   ]
  },
  {
   "cell_type": "code",
   "execution_count": 74,
   "metadata": {
    "ExecuteTime": {
     "end_time": "2019-11-14T17:12:09.280930Z",
     "start_time": "2019-11-14T17:12:09.163655Z"
    }
   },
   "outputs": [],
   "source": [
    "df_w_sample = df_w_sample[df_w_sample.ner != 'O']"
   ]
  },
  {
   "cell_type": "markdown",
   "metadata": {},
   "source": [
    "### Most Frequent Location Mentioned"
   ]
  },
  {
   "cell_type": "code",
   "execution_count": 77,
   "metadata": {
    "ExecuteTime": {
     "end_time": "2019-11-14T17:12:38.425343Z",
     "start_time": "2019-11-14T17:12:38.412922Z"
    }
   },
   "outputs": [
    {
     "data": {
      "text/plain": [
       "israel      33\n",
       "china        5\n",
       "germany      2\n",
       "kenya        2\n",
       "europe       1\n",
       "ottawa       1\n",
       "japan        1\n",
       "iraq         1\n",
       "albania      1\n",
       "slavonia     1\n",
       "russia       1\n",
       "chicago      1\n",
       "Name: w, dtype: int64"
      ]
     },
     "execution_count": 77,
     "metadata": {},
     "output_type": "execute_result"
    }
   ],
   "source": [
    "df_w_sample[df_w_sample.ner == 'LOCATION'].w.value_counts()"
   ]
  },
  {
   "cell_type": "markdown",
   "metadata": {},
   "source": [
    "### Most Frequent Person Mentioned"
   ]
  },
  {
   "cell_type": "code",
   "execution_count": 79,
   "metadata": {
    "ExecuteTime": {
     "end_time": "2019-11-14T17:14:16.084782Z",
     "start_time": "2019-11-14T17:14:16.075639Z"
    }
   },
   "outputs": [
    {
     "data": {
      "text/plain": [
       "jeff         2\n",
       "jackson      1\n",
       "michelle     1\n",
       "huckabee     1\n",
       "jack         1\n",
       "jimbo        1\n",
       "john         1\n",
       "nick         1\n",
       "diederich    1\n",
       "Name: w, dtype: int64"
      ]
     },
     "execution_count": 79,
     "metadata": {},
     "output_type": "execute_result"
    }
   ],
   "source": [
    "df_w_sample[df_w_sample.ner == 'PERSON'].w.value_counts()"
   ]
  }
 ],
 "metadata": {
  "kernelspec": {
   "display_name": "Python 3",
   "language": "python",
   "name": "python3"
  },
  "language_info": {
   "codemirror_mode": {
    "name": "ipython",
    "version": 3
   },
   "file_extension": ".py",
   "mimetype": "text/x-python",
   "name": "python",
   "nbconvert_exporter": "python",
   "pygments_lexer": "ipython3",
   "version": "3.6.6"
  },
  "toc": {
   "base_numbering": 1,
   "nav_menu": {},
   "number_sections": true,
   "sideBar": true,
   "skip_h1_title": false,
   "title_cell": "Table of Contents",
   "title_sidebar": "Contents",
   "toc_cell": false,
   "toc_position": {},
   "toc_section_display": true,
   "toc_window_display": false
  },
  "varInspector": {
   "cols": {
    "lenName": 16,
    "lenType": 16,
    "lenVar": 40
   },
   "kernels_config": {
    "python": {
     "delete_cmd_postfix": "",
     "delete_cmd_prefix": "del ",
     "library": "var_list.py",
     "varRefreshCmd": "print(var_dic_list())"
    },
    "r": {
     "delete_cmd_postfix": ") ",
     "delete_cmd_prefix": "rm(",
     "library": "var_list.r",
     "varRefreshCmd": "cat(var_dic_list()) "
    }
   },
   "types_to_exclude": [
    "module",
    "function",
    "builtin_function_or_method",
    "instance",
    "_Feature"
   ],
   "window_display": false
  }
 },
 "nbformat": 4,
 "nbformat_minor": 2
}
